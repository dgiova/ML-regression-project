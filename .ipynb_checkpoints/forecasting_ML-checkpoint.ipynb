{
 "cells": [
  {
   "cell_type": "code",
   "execution_count": 1,
   "metadata": {},
   "outputs": [],
   "source": [
    "# Import libraries necessary for this project\n",
    "import numpy as np\n",
    "import pandas as pd\n",
    "from sklearn.model_selection import ShuffleSplit\n",
    "from sklearn.ensemble import GradientBoostingClassifier\n",
    "from sklearn import metrics\n",
    "from sklearn.model_selection import cross_validate\n",
    "from sklearn.model_selection import GridSearchCV\n",
    "\n",
    "import matplotlib.pylab as plt\n",
    "from matplotlib.pylab import rcParams\n",
    "rcParams['figure.figsize'] = 12, 4\n",
    "# Pretty display for notebooks\n",
    "%matplotlib inline"
   ]
  },
  {
   "cell_type": "code",
   "execution_count": 2,
   "metadata": {},
   "outputs": [],
   "source": [
    "pd.set_option('display.float_format', lambda x: '{:.3f}'.format(x)) #Limiting floats output to 3 decimal points\n",
    "from scipy import stats\n",
    "import warnings\n",
    "def ignore_warn(*args, **kwargs):\n",
    "    pass\n",
    "warnings.warn = ignore_warn"
   ]
  },
  {
   "cell_type": "code",
   "execution_count": 3,
   "metadata": {},
   "outputs": [
    {
     "name": "stdout",
     "output_type": "stream",
     "text": [
      "The train data size before dropping Id feature is : (1460, 81) \n",
      "The test data size before dropping Id feature is : (1459, 80) \n",
      "\n",
      "The train data size after dropping Id feature is : (1460, 80) \n",
      "The test data size after dropping Id feature is : (1459, 79) \n"
     ]
    }
   ],
   "source": [
    "# Read data\n",
    "train = pd.read_csv('train.csv')\n",
    "test = pd.read_csv('test.csv')\n",
    "\n",
    "#check the numbers of samples and features\n",
    "print(\"The train data size before dropping Id feature is : {} \".format(train.shape))\n",
    "print(\"The test data size before dropping Id feature is : {} \".format(test.shape))\n",
    "\n",
    "#Save the 'Id' column\n",
    "train_ID = train['Id']\n",
    "test_ID = test['Id']\n",
    "\n",
    "#Now drop the  'Id' colum since it's unnecessary for  the prediction process.\n",
    "train.drop(\"Id\", axis = 1, inplace = True)\n",
    "test.drop(\"Id\", axis = 1, inplace = True)\n",
    "\n",
    "#check again the data size after dropping the 'Id' variable\n",
    "print(\"\\nThe train data size after dropping Id feature is : {} \".format(train.shape)) \n",
    "print(\"The test data size after dropping Id feature is : {} \".format(test.shape))"
   ]
  },
  {
   "cell_type": "code",
   "execution_count": 4,
   "metadata": {},
   "outputs": [],
   "source": [
    "y = train[\"SalePrice\"]"
   ]
  },
  {
   "cell_type": "code",
   "execution_count": 5,
   "metadata": {},
   "outputs": [],
   "source": [
    "data = train.copy()"
   ]
  },
  {
   "cell_type": "code",
   "execution_count": 6,
   "metadata": {},
   "outputs": [
    {
     "data": {
      "text/plain": [
       "1460"
      ]
     },
     "execution_count": 6,
     "metadata": {},
     "output_type": "execute_result"
    }
   ],
   "source": [
    "len(data) "
   ]
  },
  {
   "cell_type": "code",
   "execution_count": 7,
   "metadata": {},
   "outputs": [
    {
     "data": {
      "text/plain": [
       "1459"
      ]
     },
     "execution_count": 7,
     "metadata": {},
     "output_type": "execute_result"
    }
   ],
   "source": [
    "len(test)"
   ]
  },
  {
   "cell_type": "code",
   "execution_count": 8,
   "metadata": {},
   "outputs": [
    {
     "data": {
      "text/plain": [
       "486"
      ]
     },
     "execution_count": 8,
     "metadata": {},
     "output_type": "execute_result"
    }
   ],
   "source": [
    "# 50% cutoff point\n",
    "cutoff = len(data) // 3\n",
    "cutoff"
   ]
  },
  {
   "cell_type": "code",
   "execution_count": 9,
   "metadata": {},
   "outputs": [],
   "source": [
    "features_drop = []\n",
    "features_filled_std = {}\n",
    "for col in data.columns.values:\n",
    "    if data[col].isna().sum() > cutoff:\n",
    "        data.drop(col, axis=1, inplace=True)\n",
    "        features_drop.append(col)"
   ]
  },
  {
   "cell_type": "code",
   "execution_count": 10,
   "metadata": {},
   "outputs": [
    {
     "name": "stdout",
     "output_type": "stream",
     "text": [
      "features drop: ['Alley', 'FireplaceQu', 'PoolQC', 'Fence', 'MiscFeature']\n"
     ]
    }
   ],
   "source": [
    "print(\"features drop:\", features_drop)"
   ]
  },
  {
   "cell_type": "code",
   "execution_count": 11,
   "metadata": {},
   "outputs": [],
   "source": [
    "features = data.columns.values\n",
    "numeric = []\n",
    "categoric = []\n",
    "for col in features:\n",
    "    if data[col].dtype == 'object':\n",
    "        categoric.append(col)\n",
    "    else:\n",
    "        numeric.append(col)\n",
    "numeric.remove('SalePrice')"
   ]
  },
  {
   "cell_type": "code",
   "execution_count": 12,
   "metadata": {},
   "outputs": [],
   "source": [
    "# Transform categorical features in dummy variables"
   ]
  },
  {
   "cell_type": "code",
   "execution_count": 13,
   "metadata": {},
   "outputs": [],
   "source": [
    "data = data.reindex(sorted(data.columns), axis=1)\n",
    "for category in categoric:\n",
    "    series = data[category]\n",
    "    dummies = pd.get_dummies(series, prefix=category)\n",
    "    data = pd.concat([data, dummies], axis=1)\n",
    "data.drop(categoric, axis=1, inplace=True)"
   ]
  },
  {
   "cell_type": "code",
   "execution_count": 14,
   "metadata": {},
   "outputs": [],
   "source": [
    "# Fill na in numeric categories"
   ]
  },
  {
   "cell_type": "code",
   "execution_count": 15,
   "metadata": {},
   "outputs": [],
   "source": [
    "for num in numeric:\n",
    "    if data[num].isna().sum() == 0:\n",
    "        continue\n",
    "    else:\n",
    "        data[num].fillna(data[num].median(), inplace=True)"
   ]
  },
  {
   "cell_type": "code",
   "execution_count": 16,
   "metadata": {},
   "outputs": [
    {
     "name": "stdout",
     "output_type": "stream",
     "text": [
      "<class 'pandas.core.frame.DataFrame'>\n",
      "RangeIndex: 1460 entries, 0 to 1459\n",
      "Columns: 271 entries, 1stFlrSF to SaleCondition_Partial\n",
      "dtypes: float64(3), int64(34), uint8(234)\n",
      "memory usage: 755.7 KB\n"
     ]
    }
   ],
   "source": [
    "# check dataset\n",
    "data.info()"
   ]
  },
  {
   "cell_type": "code",
   "execution_count": 17,
   "metadata": {},
   "outputs": [],
   "source": [
    "X = data.copy()"
   ]
  },
  {
   "cell_type": "code",
   "execution_count": 18,
   "metadata": {},
   "outputs": [],
   "source": [
    "# Test data"
   ]
  },
  {
   "cell_type": "code",
   "execution_count": 19,
   "metadata": {},
   "outputs": [],
   "source": [
    "testDum = testDum.reindex(sorted(testDum.columns), axis=1)\n",
    "testDum.drop(features_drop, axis=1, inplace=True)\n",
    "for category in categoric:\n",
    "    series = testDum[category]\n",
    "    dummies = pd.get_dummies(series, prefix=category)\n",
    "    testDum = pd.concat([testDum, dummies], axis=1)\n",
    "\n",
    "for num in numeric:\n",
    "    if testDum[num].isna().sum() == 0:\n",
    "        continue\n",
    "    else:\n",
    "        testDum[num].fillna(testDum[num].median(), inplace=True)"
   ]
  },
  {
   "cell_type": "code",
   "execution_count": 20,
   "metadata": {},
   "outputs": [],
   "source": [
    "# testDum.drop(dropped_corr, axis=1, inplace=True)\n",
    "temp = data[numeric]\n",
    "std_devs = temp.std(axis=0)\n",
    "means = temp.mean(axis=0)\n",
    "norm = (testDum[numeric].sub(means,axis=1)).div(std_devs, axis=1)"
   ]
  },
  {
   "cell_type": "code",
   "execution_count": 21,
   "metadata": {},
   "outputs": [
    {
     "name": "stdout",
     "output_type": "stream",
     "text": [
      "MasVnrArea\n",
      "PoolSize\n",
      "BsmtFinish2Area\n",
      "SeasonPorchArea\n"
     ]
    }
   ],
   "source": [
    "outlie = []\n",
    "for col in norm.columns.values:\n",
    "    if sum(norm[col] > 5) > 5:\n",
    "        outlie.append(col)\n",
    "        print(col)"
   ]
  },
  {
   "cell_type": "code",
   "execution_count": 22,
   "metadata": {},
   "outputs": [],
   "source": [
    "testDum.drop(outlie, axis=1, inplace=True)"
   ]
  },
  {
   "cell_type": "code",
   "execution_count": 23,
   "metadata": {},
   "outputs": [],
   "source": [
    "Xtest = testDum.drop(categoric, axis=1)"
   ]
  },
  {
   "cell_type": "code",
   "execution_count": 24,
   "metadata": {},
   "outputs": [],
   "source": [
    "true_features = Xtest.columns.values.tolist()"
   ]
  },
  {
   "cell_type": "code",
   "execution_count": 25,
   "metadata": {},
   "outputs": [],
   "source": [
    "dropped = ['ProximityToMainRoad2_RRAe', 'KitchenQuality_Po', 'SaleType_VWD', 'Neighborhood_Landmrk', 'RoofMaterial_Roll', 'Exterior1_PreCast', 'Exterior2_PreCast']\n",
    "for f in dropped:\n",
    "    true_features.remove(f)\n",
    "    \n",
    "X = X[true_features]\n",
    "Xtest.drop(dropped, axis=1, inplace=True)"
   ]
  },
  {
   "cell_type": "markdown",
   "metadata": {},
   "source": [
    "# GBR"
   ]
  },
  {
   "cell_type": "code",
   "execution_count": 26,
   "metadata": {},
   "outputs": [],
   "source": [
    "from sklearn import ensemble\n",
    "from sklearn.model_selection import train_test_split"
   ]
  },
  {
   "cell_type": "code",
   "execution_count": 27,
   "metadata": {},
   "outputs": [],
   "source": [
    "X_train, X_val, y_train, y_val = train_test_split(X, y, test_size=0.2)"
   ]
  },
  {
   "cell_type": "code",
   "execution_count": 28,
   "metadata": {},
   "outputs": [
    {
     "name": "stdout",
     "output_type": "stream",
     "text": [
      "score for trees 250 is: 0.933368995043525\n",
      "score for trees 300 is: 0.9336066725460278\n",
      "score for trees 350 is: 0.931362991470866\n",
      "score for trees 400 is: 0.9346840271127105\n",
      "score for trees 450 is: 0.9319274146988659\n",
      "score for trees 500 is: 0.9326022737723461\n"
     ]
    }
   ],
   "source": [
    "best_trees = 0\n",
    "score = 0\n",
    "for i in [250, 300, 350, 400, 450, 500]:\n",
    "    clf = ensemble.GradientBoostingRegressor(n_estimators = i, max_depth = 3, min_samples_split = 2,\n",
    "                                             learning_rate = 0.1, loss = 'huber')\n",
    "    clf.fit(X_train, y_train)\n",
    "    temp = clf.score(X_val, y_val)\n",
    "    print(\"score for trees \" + str(i) +\" is: \" + str(temp))\n",
    "    if temp > score:\n",
    "        best_trees = i\n",
    "        score = temp"
   ]
  },
  {
   "cell_type": "code",
   "execution_count": 29,
   "metadata": {},
   "outputs": [
    {
     "name": "stdout",
     "output_type": "stream",
     "text": [
      "score for depth 2 is: 0.9376134269731875\n",
      "score for depth 3 is: 0.9325354938766495\n",
      "score for depth 4 is: 0.9323265798420034\n",
      "score for depth 5 is: 0.9316844391328991\n",
      "score for depth 6 is: 0.9306735500946391\n"
     ]
    }
   ],
   "source": [
    "best_depth = 0\n",
    "score = 0\n",
    "for i in [2, 3, 4, 5, 6]:\n",
    "    clf = ensemble.GradientBoostingRegressor(n_estimators = best_trees, max_depth = i, min_samples_split = 2,\n",
    "                                             learning_rate = 0.1, loss = 'huber')\n",
    "    clf.fit(X_train, y_train)\n",
    "    temp = clf.score(X_val, y_val)\n",
    "    print(\"score for depth \" + str(i) +\" is: \" + str(temp))\n",
    "    if temp > score:\n",
    "        best_depth = i\n",
    "        score = temp"
   ]
  },
  {
   "cell_type": "code",
   "execution_count": 30,
   "metadata": {},
   "outputs": [
    {
     "name": "stdout",
     "output_type": "stream",
     "text": [
      "score for min sample split 2 is: 0.9379124092463839\n",
      "score for min sample split 3 is: 0.9367771958806113\n",
      "score for min sample split 4 is: 0.9381309074823737\n",
      "score for min sample split 5 is: 0.9375793408901264\n",
      "score for min sample split 6 is: 0.9364948794453581\n",
      "score for min sample split 7 is: 0.937428659680765\n"
     ]
    }
   ],
   "source": [
    "best_sample_split = 0\n",
    "score = 0\n",
    "for i in [2, 3, 4, 5, 6, 7]:\n",
    "    clf = ensemble.GradientBoostingRegressor(n_estimators = best_trees, max_depth = best_depth, min_samples_split = i,\n",
    "                                             learning_rate = 0.1, loss = 'huber')\n",
    "    clf.fit(X_train, y_train)\n",
    "    temp = clf.score(X_val, y_val)\n",
    "    print(\"score for min sample split \" + str(i) +\" is: \" + str(temp))\n",
    "    if temp > score:\n",
    "        best_sample_split = i\n",
    "        score = temp"
   ]
  },
  {
   "cell_type": "code",
   "execution_count": 31,
   "metadata": {},
   "outputs": [
    {
     "name": "stdout",
     "output_type": "stream",
     "text": [
      "Best number of estimators: 400\n",
      "Best depth: 2\n",
      "Best min sample split: 4\n"
     ]
    }
   ],
   "source": [
    "print(\"Best number of estimators:\", best_trees)\n",
    "print(\"Best depth:\", best_depth)\n",
    "print(\"Best min sample split:\", best_sample_split)"
   ]
  },
  {
   "cell_type": "code",
   "execution_count": 32,
   "metadata": {},
   "outputs": [
    {
     "data": {
      "text/plain": [
       "GradientBoostingRegressor(alpha=0.9, criterion='friedman_mse', init=None,\n",
       "             learning_rate=0.1, loss='ls', max_depth=2, max_features=None,\n",
       "             max_leaf_nodes=None, min_impurity_decrease=0.0,\n",
       "             min_impurity_split=None, min_samples_leaf=1,\n",
       "             min_samples_split=4, min_weight_fraction_leaf=0.0,\n",
       "             n_estimators=400, n_iter_no_change=None, presort='auto',\n",
       "             random_state=None, subsample=1.0, tol=0.0001,\n",
       "             validation_fraction=0.1, verbose=0, warm_start=False)"
      ]
     },
     "execution_count": 32,
     "metadata": {},
     "output_type": "execute_result"
    }
   ],
   "source": [
    "clf = ensemble.GradientBoostingRegressor(n_estimators = best_trees, max_depth = best_depth, \n",
    "                                         min_samples_split = best_sample_split,\n",
    "                                         learning_rate = 0.1, loss = 'ls')\n",
    "clf.fit(X, y)"
   ]
  },
  {
   "cell_type": "code",
   "execution_count": 33,
   "metadata": {},
   "outputs": [],
   "source": [
    "y_pred = clf.predict(Xtest)"
   ]
  },
  {
   "cell_type": "code",
   "execution_count": 34,
   "metadata": {},
   "outputs": [],
   "source": [
    "import pickle"
   ]
  },
  {
   "cell_type": "raw",
   "metadata": {
    "scrolled": true
   },
   "source": [
    "filename = 'GBR_best.sav'\n",
    "pickle.dump(clf, open(filename, 'wb'))"
   ]
  },
  {
   "cell_type": "markdown",
   "metadata": {},
   "source": [
    "# RIDGE"
   ]
  },
  {
   "cell_type": "code",
   "execution_count": 35,
   "metadata": {},
   "outputs": [],
   "source": [
    "from sklearn import linear_model\n",
    "from sklearn.pipeline import make_pipeline\n",
    "from sklearn.preprocessing import RobustScaler"
   ]
  },
  {
   "cell_type": "code",
   "execution_count": 36,
   "metadata": {},
   "outputs": [
    {
     "name": "stdout",
     "output_type": "stream",
     "text": [
      "Alpha Value:  15\n"
     ]
    }
   ],
   "source": [
    "rcv = linear_model.RidgeCV(alphas=(12,13,14,15,16,17,18),\n",
    "                           cv=5)\n",
    "rcv.fit(X, y)\n",
    "print (\"Alpha Value: \", (rcv.alpha_))"
   ]
  },
  {
   "cell_type": "code",
   "execution_count": 37,
   "metadata": {},
   "outputs": [
    {
     "data": {
      "text/plain": [
       "Pipeline(memory=None,\n",
       "     steps=[('robustscaler', RobustScaler(copy=True, quantile_range=(25.0, 75.0), with_centering=True,\n",
       "       with_scaling=True)), ('elasticnetcv', ElasticNetCV(alphas=(0.001, 0.0009, 0.0008, 0.0007, 0.0006, 0.0005),\n",
       "       copy_X=True, cv=5, eps=0.001, fit_intercept=True, l1_ratio=0.5,\n",
       "       max_iter=1000, n_alphas=100, n_jobs=None, normalize=False,\n",
       "       positive=False, precompute='auto', random_state=None,\n",
       "       selection='cyclic', tol=0.0001, verbose=0))])"
      ]
     },
     "execution_count": 37,
     "metadata": {},
     "output_type": "execute_result"
    }
   ],
   "source": [
    "ecv = make_pipeline(RobustScaler(), linear_model.ElasticNetCV(alphas=(0.001,0.0009,0.0008,0.0007, 0.0006, 0.0005),\n",
    "                           cv=5))\n",
    "ecv.fit(X, y)"
   ]
  },
  {
   "cell_type": "code",
   "execution_count": 38,
   "metadata": {},
   "outputs": [],
   "source": [
    "y_predR = rcv.predict(Xtest)"
   ]
  },
  {
   "cell_type": "code",
   "execution_count": 39,
   "metadata": {},
   "outputs": [],
   "source": [
    "y_predE = ecv.predict(Xtest)"
   ]
  },
  {
   "cell_type": "raw",
   "metadata": {},
   "source": [
    "filename = 'Ridge_best.sav'\n",
    "pickle.dump(rcv, open(filename, 'wb'))\n",
    "\n",
    "filename = 'ENet_best.sav'\n",
    "pickle.dump(ecv, open(filename, 'wb'))"
   ]
  },
  {
   "cell_type": "markdown",
   "metadata": {},
   "source": [
    "# SUBMIT"
   ]
  },
  {
   "cell_type": "code",
   "execution_count": 40,
   "metadata": {},
   "outputs": [],
   "source": [
    "y_comb = 1/2 * y_pred + 1/4 * y_predR + 1/4* y_predE"
   ]
  },
  {
   "cell_type": "code",
   "execution_count": 41,
   "metadata": {},
   "outputs": [],
   "source": [
    "# create submission file\n",
    "sub = pd.DataFrame()\n",
    "sub['Id'] = test_ID\n",
    "sub['SalePrice'] = y_comb\n",
    "sub.to_csv('submission.csv',index=False)"
   ]
  },
  {
   "cell_type": "code",
   "execution_count": 42,
   "metadata": {},
   "outputs": [
    {
     "data": {
      "text/plain": [
       "array([276795.87544191, 221038.67482918, 125304.24466936, 165856.935618  ,\n",
       "       155729.61139181, 250840.16836663, 160143.11722132, 320131.31069864,\n",
       "       166113.89956212, 238985.72932597, 185727.82954144, 149839.02954534,\n",
       "       415145.39391337,  79423.96880539, 339326.83153757, 363642.86226029,\n",
       "       138116.11416491, 160330.72171998, 158432.49208627, 143129.18593286,\n",
       "       210788.01893004, 152195.83605395, 216724.18573052, 170553.10561102,\n",
       "       267398.83324115, 171409.45763075, 144408.33000129, 149501.5304145 ,\n",
       "       185611.53868579, 205508.36076198, 212848.33830096, 421807.62125404,\n",
       "       280652.32886094, 245966.08009842, 110115.89579147, 157095.52647728,\n",
       "       226099.9588945 , 128367.48523254, 255667.89690135,  76885.65079609,\n",
       "       190735.8027266 , 260420.19731756, 190861.54338856, 259610.98731221,\n",
       "       163684.44998468, 238539.94317239, 173546.81836744, 248818.99286985,\n",
       "       146399.80991964, 155680.41623755, 191064.70200703, 150767.05003161,\n",
       "       239643.34243766, 260214.56356665, 189927.53455663, 175095.78537092,\n",
       "       247627.75207875, 203582.40096435, 353370.83594716, 478498.99306915,\n",
       "       119422.70507949, 367102.40315281, 125707.98204629, 251684.83047823,\n",
       "       217307.84921907, 168764.64537467, 314993.6868716 , 142492.95181945,\n",
       "       146211.98280515, 234295.84592656, 290985.88621873, 254937.19887397,\n",
       "       162969.73517043, 237717.61025052, 141900.40882679, 197470.5352782 ,\n",
       "       278940.46438797, 120758.60605305, 329691.32348039, 206094.34506185,\n",
       "       235100.00024504, 218866.01806196, 263420.04131921, 294590.63386879,\n",
       "       244730.07398204, 256929.6620987 , 499063.67287536, 291809.8187669 ,\n",
       "       165687.33001646, 263001.1391876 , 212163.88803758, 220232.66587675,\n",
       "       194575.2301342 , 151944.20513624, 161079.25238622, 169248.2256487 ,\n",
       "       225814.17477092, 157846.15398755, 163624.59239871, 249942.96961959,\n",
       "       176530.11948787, 138864.13486256, 157779.96963482, 433359.51249012,\n",
       "       195902.71772366, 281434.27866772, 197251.49767697, 124739.03478338,\n",
       "       319478.93513559, 173918.50508612, 311315.49145116, 162822.41187177,\n",
       "       144510.20946054, 310217.98705971, 188397.69328964, 307471.5917287 ,\n",
       "       152463.80370516, 208586.43082131, 664931.95575746, 171224.99281254,\n",
       "       152397.58342056, 157587.37582498, 220705.17165112, 321117.43597085,\n",
       "       162160.55972974, 176824.61198591, 177496.17309404, 239834.89980091,\n",
       "       237794.92949111, 138856.1766829 , 217927.14842563, 112034.18943077,\n",
       "       173389.42075588, 221956.11190236, 170598.61515755, 168220.60332065,\n",
       "       257174.64320453, 257333.58489948, 321152.55376048, 563991.45723378,\n",
       "       448123.23542166, 337973.31052274, 147347.22141173, 247063.35633611,\n",
       "       333637.62741647, 206244.59521122, 356240.20759897, 140341.4843682 ,\n",
       "       335897.93233271, 261792.85271498, 200170.52007804, 203599.36450798,\n",
       "       319380.279524  , 104492.76505716, 181163.53188518, 197699.28961687,\n",
       "       246921.76274128, 302685.02143194, 142168.95231439, 227580.62043872,\n",
       "       138434.16100951, 370592.81147214, 271328.86811323, 172848.89638943,\n",
       "       242898.84213443, 220243.61441962, 180815.49105728, 381663.74024493,\n",
       "       346741.99854335, 191271.3834544 , 176101.48415838, 176309.89806327,\n",
       "       186441.09421729, 132100.88343397, 315159.34960596, 403630.33181691,\n",
       "       118134.21035216, 136719.18863605, 186397.88592246, 193517.75477895,\n",
       "       120075.48431653, 144787.34746256, 210792.30572442, 271058.3348991 ,\n",
       "        92524.12183144, 171167.01230658, 172495.15172396, 286531.90244256,\n",
       "       422019.85059977, 314634.91894856, 264650.50865178, 173209.42733377,\n",
       "       182125.05461706, 227277.35456022,  93461.73350688, 122770.66808236,\n",
       "       205740.05501075, 404486.82330636, 169414.12600424, 168326.22401649,\n",
       "       507410.56115865, 330959.05675854, 114327.64509637, 197704.7555728 ,\n",
       "       358122.46411224, 115569.68910847, 205150.19082062, 363361.26283472,\n",
       "       189129.93040176, 409767.99427744, 178171.93900458, 187769.87243945,\n",
       "       174663.0716878 , 200592.88616986, 364950.70665845, 212025.25843357,\n",
       "       172725.45415791, 112528.69160882, 100695.90285081, 236342.2579876 ,\n",
       "       166170.68524905, 322008.12805378, 210535.41653097, 213686.00745336,\n",
       "       265614.44042347, 174138.33219746, 203678.17551866, 179811.3358763 ,\n",
       "       248587.57759203, 211037.66002507, 170226.44611886, 137199.48032876,\n",
       "       148288.69430659, 305457.52077385, 352071.10453319, 212401.00927104,\n",
       "       249398.49705796, 249757.32500621, 166424.80097425, 220168.69530009,\n",
       "       194285.59492866, 209451.5996018 , 293309.11010376, 196515.02717658,\n",
       "       191750.90221983, 188040.54721041, 353496.14145203, 334750.9742471 ,\n",
       "       255986.95731811, 180263.5121124 ,  65354.53029505, 140996.69012688,\n",
       "       148048.56349758, 227821.05746405, 338642.52080993, 100861.29779931,\n",
       "       177024.2140356 , 209136.8823537 , 354533.53091322, 132645.64173363,\n",
       "       113436.38126176, 178444.43503065, 371754.66252963, 207997.14185933,\n",
       "       326110.96137872, 174751.15216806, 130839.84016667, 144003.45139536,\n",
       "       198842.27315816, 142698.7959729 , 268916.68812224, 219391.29054832,\n",
       "       345357.64551433, 247547.49647815, 198588.25336223, 280008.3600815 ,\n",
       "       184565.9174348 , 111126.25185576, 130950.3352983 , 329108.48966887,\n",
       "       346261.85617099, 208389.83425135, 417417.1572238 , 171021.21966316,\n",
       "       126430.52521635, 312727.26600913, 154461.14147308, 235728.15953781,\n",
       "        95376.53892725, 206716.83979203, 171838.00262923, 188786.62804969,\n",
       "       181266.85594931, 203584.21728813, 188337.40587751, 254427.8956495 ,\n",
       "       182817.69593509, 142587.23336189, 220821.50820645, 203627.07423738,\n",
       "       131616.34015719, 284267.25418513, 256888.17594505, 177672.50246352,\n",
       "       143122.7027007 , 421238.48637286, 248248.59305752, 155954.88114933,\n",
       "       125270.31763925, 298263.08071237, 147596.08296164, 156103.9022315 ,\n",
       "       319975.97882117, 133593.04945328, 288476.48845796, 135674.82929562,\n",
       "       221302.41002489, 163651.29489769, 364818.86905283, 276710.01424332,\n",
       "       180558.27778414, 135057.78879399, 264926.67825955, 156469.75169432,\n",
       "       211484.39558205, 422237.38528394, 164143.3396924 , 235783.91721483,\n",
       "       507429.95546909, 258537.41741464, 224577.01339516, 177696.5026433 ,\n",
       "       123690.09411942, 141666.14705387, 247146.13012014, 196387.29472454,\n",
       "       107404.7838857 , 145409.56924298, 195555.23098267, 250145.73645007,\n",
       "       131804.2277551 , 185544.56158807, 251985.40670494, 226447.63123376,\n",
       "       369795.49705499, 148408.64493715, 187936.54536448, 158843.81731484,\n",
       "       161915.34575695, 131760.81267508, 154429.682767  , 109879.3992571 ,\n",
       "       170515.37269061, 240893.10052349, 142316.92477114, 123183.42667738,\n",
       "       182036.07044295, 181747.4375775 , 203549.26823737, 236888.80621484,\n",
       "       118535.88943071, 208806.93738609, 238761.80941796, 372533.37142264,\n",
       "       204475.49644569, 545318.55251109, 163932.68211262, 153786.84069569,\n",
       "       263538.34780205, 243539.16003977, 129685.15272532, 172129.51585534,\n",
       "       181144.83640043, 255401.01473576, 156678.81378475, 186899.01713451,\n",
       "       230584.53856169, 449902.47359333, 146844.78809297, 121430.59496903,\n",
       "       413292.47986285, 182462.70511962, 119502.8423333 , 116680.09681321,\n",
       "       160023.07305797, 161659.277732  , 260578.48104605, 180581.00248456,\n",
       "       253661.49390192, 241160.42343556,  94867.56739583, 145705.84563042,\n",
       "       239994.38892106, 181555.39851336, 192866.93778764, 203853.02081106,\n",
       "       126754.66331325, 190034.99730485, 216715.96127693, 140983.70887005,\n",
       "       248446.51697431, 206591.52617015, 188180.59795539, 311639.49672212,\n",
       "       277966.14312109, 162386.46434278, 215751.12304905, 135320.3931332 ,\n",
       "       204494.14427688, 202487.90432912, 230519.97476376, 218474.47176857,\n",
       "       165194.93300812, 275555.74028298,  68789.05690923, 228192.97460984,\n",
       "       206213.2090085 , 205146.0753323 , 193611.09680764, 125498.81557189,\n",
       "       210297.34313042, 187676.49996709, 219274.24248861, 333920.64078948,\n",
       "       133794.13047154, 185840.05418375, 269698.00047525, 159293.82159151,\n",
       "       158074.17825916, 292280.13029842, 168891.74297616, 184491.28249255,\n",
       "       319991.31691927, 324628.51602605, 192454.05481655, 179168.44949466,\n",
       "       223921.67438141, 123319.71503623, 293097.4167346 , 217555.9383219 ,\n",
       "       254953.64399291, 146845.97249746, 141477.79766492, 510907.44721423,\n",
       "       185852.44661531, 217491.89622478, 220888.00088635, 211946.82253422,\n",
       "       140730.87291955, 140858.73634115, 203929.23973005, 261242.80623741,\n",
       "       123725.88597764, 325909.92070394, 184596.00932962, 177873.12305201,\n",
       "       307426.52227599, 261682.17306117, 142055.13849223, 270808.49882403,\n",
       "       245655.5945873 , 284528.38914257, 216343.30826596, 410867.79906138,\n",
       "       175041.07610755, 139556.3094773 , 259161.12005623, 212962.37029811,\n",
       "       257938.67346482, 183945.41675426, 200750.4025789 , 166670.12128658,\n",
       "       369203.08951111, 190270.37539094, 373304.62361083, 226803.30349894,\n",
       "       133785.20569519, 237409.87141   , 157779.57284987, 236803.56914073,\n",
       "       205240.1807501 , 232562.41637163, 156091.57328477, 243781.17782316,\n",
       "       171158.80506804, 124834.53748919, 166991.47328272, 165570.25927486,\n",
       "       144145.55211801, 369344.6190937 , 216517.33033425, 140098.49247603,\n",
       "       160700.38216414, 450371.54557761, 196901.67064189, 190597.13252322,\n",
       "       256908.30064919, 160241.26666173, 151652.92479653, 176628.12503647,\n",
       "       117160.68737671, 186214.94322931, 275270.86279165, 215568.46824528,\n",
       "       127323.11434931, 249108.37630447, 201811.31290261, 131178.63737384,\n",
       "       427285.41493716, 184152.52806136, 138385.47989448, 186881.14504611,\n",
       "       151356.24211294, 284926.19565727, 253149.13985545, 221136.49528569,\n",
       "       291768.31857211, 360247.17246472, 141544.81169071, 175355.16559871,\n",
       "       369482.52478262, 205242.80645779, 228825.48052389, 157205.57657972,\n",
       "       171651.37819069, 139082.65415788, 151315.67975631, 176350.92881424,\n",
       "       325071.50085173, 129318.5150824 , 334060.87148219, 237206.89264953,\n",
       "       188444.52224348, 203777.21022969, 176335.78600873, 216209.05941933,\n",
       "       144872.21693125, 205939.99917018, 161590.58292092, 124344.83116725,\n",
       "       191804.92148901, 190839.58600624, 144580.73316602, 172965.82861904,\n",
       "       169071.18179365, 166113.80297191, 389532.84780871, 308727.98177484,\n",
       "       260667.59987086, 162782.95328755, 194758.39279181, 159358.08081224,\n",
       "       422049.66574551, 166727.17650731, 137633.49336899, 257653.62710256,\n",
       "       188941.24085563, 256886.72069844, 199962.56053236, 134937.76738574,\n",
       "       176915.76231683, 216944.79688318, 166973.10624021, 125248.69564422,\n",
       "       163468.5614307 , 115448.54111336, 152925.42011323, 260930.51899707,\n",
       "       229384.57181774, 193053.55891304, 215204.28366212, 169446.76162038,\n",
       "       491768.17722576, 194705.80778446, 406595.91448026, 143378.06383336,\n",
       "       143549.95336004, 203519.87158016, 181706.45398605, 119693.89482493,\n",
       "       202197.26415966, 216320.03880934, 315861.13454959, 290198.5687788 ,\n",
       "       340590.70703004, 371597.6988068 , 170023.6231563 , 202686.83101394,\n",
       "       224503.00725997, 220631.19741524, 210317.74001461, 226146.42536622,\n",
       "       158847.49331103, 215831.84038667, 170644.16712215, 172199.35984696,\n",
       "       139799.34105526, 226475.41134357, 268914.65174789, 148069.84100288,\n",
       "       414939.31939042, 230635.72040116, 203995.36355261, 201951.27413968,\n",
       "       160404.38924264, 209650.7559697 , 202409.19864145, 495444.21614866,\n",
       "       244473.54660985, 200450.69651227, 114482.63036487, 284816.87757951,\n",
       "       215908.6450093 ,  91851.9333561 , 190412.18236532, 175745.68655783,\n",
       "       214785.64682279, 149185.06753907, 360174.29137166, 106150.1787739 ,\n",
       "       227394.98304489, 120593.44195055, 483701.49669066, 168940.19988065,\n",
       "       268087.4248908 , 172979.2958864 , 242940.96272536, 370508.40884371,\n",
       "       176098.97213765, 265829.08264342, 159612.68971799, 165509.45816018,\n",
       "       117888.22997979, 180439.24288554, 145469.81443437, 158725.4460514 ,\n",
       "       286465.8567613 , 126391.03097386, 255374.4476387 , 147677.96060649,\n",
       "       191544.75604342, 408946.01290989, 230304.90391998, 225009.36719865,\n",
       "       183444.7370748 , 288378.83429005, 269984.24022864, 159797.75441318,\n",
       "       182007.34141977, 195749.89304929, 138835.52047692, 181279.44340158,\n",
       "       313367.11981032, 205580.1278616 , 211831.88318647, 363363.58772568,\n",
       "       112596.62910053, 168403.17352749, 165807.45153689, 153287.52184905,\n",
       "       207733.57802876, 282531.24021255, 199789.8956131 , 394075.81044741,\n",
       "       140457.66715052, 217473.17614898, 168086.14998375, 125996.51723084,\n",
       "       235020.97645395, 236896.00389972, 194016.7541746 , 187700.68694105,\n",
       "       163457.5827581 , 290920.68342779, 160073.93115785, 194516.05638071,\n",
       "        95507.44482034, 256146.87569135, 199806.4697698 , 125335.40530696,\n",
       "       176360.64297057, 121996.09320359, 249308.5563576 , 118589.1505943 ,\n",
       "       218190.85650879, 266207.96288679, 245792.99848245, 225347.12645277,\n",
       "       167625.56562538, 185694.99053329, 285489.08498772, 256894.95244032,\n",
       "       282986.60608931, 191342.29066154, 180291.7322104 , 135729.8999453 ,\n",
       "       172611.42972282, 112517.25440161, 193637.10565825, 264503.90791972,\n",
       "       158529.52272637, 283702.60594095, 161398.54044839, 191727.72699928,\n",
       "        86355.2387099 , 360248.58802243, 357835.21025016, 305287.36187992,\n",
       "       130186.86155563, 232636.86196332, 342557.89362671, 162628.67303129,\n",
       "       186714.52253983,  63749.52383772, 237844.87912999, 152011.60022556,\n",
       "       422536.70675141, 238244.58460001, 139190.32349062, 154631.40481449,\n",
       "       213288.93471536, 232972.67449536, 346806.62874328, 178431.21142487,\n",
       "       237830.84190523, 148278.00956048, 197846.77698495, 172431.83562838,\n",
       "       272422.82777505, 398603.55289017, 259982.91502719, 163202.13417556,\n",
       "       231916.97119644, 235752.27445408, 229769.11455769, 117373.7551439 ,\n",
       "       242627.43436262, 460040.0697795 , 166406.54966615, 234355.51715064,\n",
       "       396332.27978416, 244231.82440559, 156017.47971419, 246368.64460878,\n",
       "       164220.60492576, 291690.49517586, 245681.7772975 , 151620.83559476,\n",
       "       224265.37396618, 176118.87652021, 206141.7200667 , 100918.30416556,\n",
       "       159365.13728728, 506508.12644563, 215228.43881682, 113765.23465791,\n",
       "       157184.72768542, 108956.25257764, 239533.57376397, 275927.49475046,\n",
       "       150256.60585754, 371861.87384001, 276172.71068316, 208039.67058621,\n",
       "       327818.9674319 , 305052.06626944, 175020.96382829, 168452.96697762,\n",
       "       327385.9306684 , 344662.23728889, 477921.10428723, 231730.47851176,\n",
       "       175471.2691141 , 142426.7478105 , 164167.59304363, 285092.2577053 ,\n",
       "       221229.3853585 , 174163.26935253, 252951.72952757, 171403.73792332,\n",
       "       190412.88733886, 261409.22485953, 237603.61778447, 267811.67568751,\n",
       "       117073.43113518, 206567.13715579, 145439.50349768, 191797.49448009,\n",
       "       153678.32566666, 170477.144465  , 143378.38247146, 138782.80357962,\n",
       "       286120.23063746,  93285.19420106, 280223.22829927, 305952.88183069,\n",
       "       182760.61807376, 157294.4105176 , 149994.69848146, 165871.7938359 ,\n",
       "       503173.20047149, 155876.19715449, 151787.30105319, 337923.17544076,\n",
       "       151622.68320771, 389962.2013653 , 230052.02979859, 176808.39084984,\n",
       "       329043.69346682, 381168.54246522, 125708.23581322, 178946.53848554,\n",
       "       217245.35929811, 144632.95449456, 163925.73972442, 267900.60658504,\n",
       "       193446.31773738, 279760.71482885, 175399.9646105 , 257486.7232115 ,\n",
       "       138094.38295552, 218816.05700035, 194904.63124652, 107369.40888281,\n",
       "       276819.53136382, 168879.69737975, 140554.05487181, 239601.12179097,\n",
       "       163337.03466517, 224709.28550316, 207611.6109149 , 240694.31802265,\n",
       "       301832.35880486, 282228.66157003, 247917.10862859, 248430.81080281,\n",
       "       156186.83762036, 270370.22338142, 155090.4531364 , 160057.45268655,\n",
       "       165999.82736814, 160854.80454423, 290744.44551511, 155213.02741428,\n",
       "       121508.72935492, 249921.99825667, 204264.8181983 , 257915.63876331,\n",
       "       255490.1103819 , 157669.11020272, 253416.01741688, 278789.03531836,\n",
       "       282761.01168605, 225085.03168569, 104684.72030544, 327388.70986605,\n",
       "       293859.86431707, 201105.62539211, 168028.25625441, 226264.54018751,\n",
       "       233423.69645495, 422444.06552421, 243444.75159653, 203573.47662225,\n",
       "       303884.98274343, 267065.14272122, 144189.4401656 , 117820.97365516,\n",
       "       318580.22662726, 143080.60151394, 317674.7627301 , 185901.06757304,\n",
       "       195366.89241144, 207753.39760324, 174510.99573373, 234111.67320287,\n",
       "       228791.36632516, 159406.70476942, 322210.56483527])"
      ]
     },
     "execution_count": 42,
     "metadata": {},
     "output_type": "execute_result"
    }
   ],
   "source": [
    "y_comb"
   ]
  },
  {
   "cell_type": "code",
   "execution_count": null,
   "metadata": {},
   "outputs": [],
   "source": []
  }
 ],
 "metadata": {
  "kernelspec": {
   "display_name": "Python 3",
   "language": "python",
   "name": "python3"
  },
  "language_info": {
   "codemirror_mode": {
    "name": "ipython",
    "version": 3
   },
   "file_extension": ".py",
   "mimetype": "text/x-python",
   "name": "python",
   "nbconvert_exporter": "python",
   "pygments_lexer": "ipython3",
   "version": "3.6.8"
  }
 },
 "nbformat": 4,
 "nbformat_minor": 2
}
